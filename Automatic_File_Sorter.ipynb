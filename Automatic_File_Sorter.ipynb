{
 "cells": [
  {
   "cell_type": "code",
   "execution_count": 1,
   "id": "bab842b0-ec86-4586-9bfc-74f298dd11c5",
   "metadata": {},
   "outputs": [],
   "source": [
    "import os, shutil"
   ]
  },
  {
   "cell_type": "code",
   "execution_count": 4,
   "id": "a93e6b8c-615b-4ea5-8ba9-3817e89743b1",
   "metadata": {},
   "outputs": [
    {
     "name": "stdin",
     "output_type": "stream",
     "text": [
      "Please enter the file path:  C:\\Users\\h2mal\\OneDrive\\Desktop\\Docs\n"
     ]
    }
   ],
   "source": [
    "file_path = input(r\"Please enter the file path: \")"
   ]
  },
  {
   "cell_type": "code",
   "execution_count": 5,
   "id": "ee54950d-b20c-48f4-8fe2-7f719b1d899e",
   "metadata": {},
   "outputs": [
    {
     "data": {
      "text/plain": [
       "['200905029_HarshaChandraMallubhotla_PSUC_LAB3&4.docx',\n",
       " '200905029__HarshaChandraMallubhotla_Lab 5&6.docx',\n",
       " '51fbe9bb-797d-43de-867b-9c3b78df4799.jpg',\n",
       " 'books.txt',\n",
       " 'Both the reading and the lecture discuss the decline of literature and its consequences.docx',\n",
       " 'c',\n",
       " 'Capture.PNG',\n",
       " 'CPI STUFF 2.docx',\n",
       " 'CPI STUFF.docx',\n",
       " 'CV',\n",
       " 'CV.docx',\n",
       " 'essat ting.docx',\n",
       " 'Essays.docx',\n",
       " 'EVS assignment 2.docx',\n",
       " 'fingerprints',\n",
       " 'goals.xlsx',\n",
       " 'GraphQL API Documentation for User and Organization Data.docx',\n",
       " 'GRE',\n",
       " 'GRE.zip',\n",
       " 'HARSHA CHANDRA MALLUBHOTLA_200905029.pdf',\n",
       " \"Harsha's Notebook.url\",\n",
       " 'Harsha_CV+Resume.doc',\n",
       " 'imp',\n",
       " 'IT_project',\n",
       " 'IT_project - Shortcut.lnk',\n",
       " 'JobSpec.xlsx',\n",
       " 'LAB NO 1&2_HARSHA CHANDRA MALLUBHOTLA_200905029.docx',\n",
       " 'levelorder.txt',\n",
       " 'mba requirements.docx',\n",
       " 'MIT',\n",
       " 'My name is Harsha Chandra Mallubhotla.docx',\n",
       " 'Negotiation.docx',\n",
       " 'NIT',\n",
       " 'photo.pdf',\n",
       " 'pn.txt',\n",
       " 'queries.txt',\n",
       " 'RANDOM MIT SHIT',\n",
       " 'RANDOM SHIT',\n",
       " 'RANDOM TASK, CPI SHIT',\n",
       " 'Rembrandt and Friendship.docx',\n",
       " 'sop2.docx',\n",
       " 'templates.docx',\n",
       " 'The reading passage states three ways to prevent the Torreya from extinction.docx',\n",
       " 'TOEFL Official Guide.lnk',\n",
       " 'TOEFL2.docx',\n",
       " 'UNIVERSITY REALTED',\n",
       " 'Week5.docx',\n",
       " 'workout.pdf']"
      ]
     },
     "execution_count": 5,
     "metadata": {},
     "output_type": "execute_result"
    }
   ],
   "source": [
    "os.listdir(file_path)"
   ]
  },
  {
   "cell_type": "code",
   "execution_count": 7,
   "id": "770d29a4-d578-4a00-9915-b2f422c72063",
   "metadata": {},
   "outputs": [
    {
     "data": {
      "text/plain": [
       "['c',\n",
       " 'CV',\n",
       " 'fingerprints',\n",
       " 'GRE',\n",
       " 'imp',\n",
       " 'IT_project',\n",
       " 'MIT',\n",
       " 'NIT',\n",
       " 'RANDOM MIT SHIT',\n",
       " 'RANDOM SHIT',\n",
       " 'RANDOM TASK, CPI SHIT',\n",
       " 'UNIVERSITY REALTED']"
      ]
     },
     "execution_count": 7,
     "metadata": {},
     "output_type": "execute_result"
    }
   ],
   "source": [
    "folder_names = []\n",
    "\n",
    "# List all items in the specified directory\n",
    "for item in os.listdir(file_path):\n",
    "    # Construct full path\n",
    "    item_path = os.path.join(file_path, item)\n",
    "    # Check if the item is a directory and add to list if it is\n",
    "    if os.path.isdir(item_path):\n",
    "        folder_names.append(item)\n",
    "\n",
    "folder_names"
   ]
  },
  {
   "cell_type": "code",
   "execution_count": 11,
   "id": "c3b8031a-aa76-4a67-ac88-88b9352cc0ea",
   "metadata": {},
   "outputs": [],
   "source": [
    "items = os.listdir(file_path)\n",
    "\n",
    "# Iterate through all items in the directory\n",
    "for item in items:\n",
    "    # Construct full path\n",
    "    item_path = os.path.join(file_path, item)\n",
    "    \n",
    "    # Check if the item is a file\n",
    "    if os.path.isfile(item_path):\n",
    "        # Extract the file extension\n",
    "        file_extension = os.path.splitext(item)[1].lower()\n",
    "        \n",
    "        # Define the folder name for this file type\n",
    "        # Use 'No Extension' if the file has no extension\n",
    "        folder_name = file_extension[1:] if file_extension else \"No Extension\"\n",
    "        \n",
    "        # Define the path to the folder for this file type\n",
    "        folder_path = os.path.join(file_path, folder_name)\n",
    "        \n",
    "        # Create the folder if it doesn't exist\n",
    "        if not os.path.exists(folder_path):\n",
    "            os.makedirs(folder_path)\n",
    "        \n",
    "        # Move the file to the corresponding folder\n",
    "        shutil.move(item_path, os.path.join(folder_path, item))"
   ]
  },
  {
   "cell_type": "code",
   "execution_count": 12,
   "id": "9e0280b5-030f-416d-b770-5f5cfd32959e",
   "metadata": {},
   "outputs": [
    {
     "data": {
      "text/plain": [
       "['c',\n",
       " 'CV',\n",
       " 'doc',\n",
       " 'docx',\n",
       " 'fingerprints',\n",
       " 'GRE',\n",
       " 'imp',\n",
       " 'IT_project',\n",
       " 'jpg',\n",
       " 'lnk',\n",
       " 'MIT',\n",
       " 'NIT',\n",
       " 'pdf',\n",
       " 'png',\n",
       " 'RANDOM MIT SHIT',\n",
       " 'RANDOM SHIT',\n",
       " 'RANDOM TASK, CPI SHIT',\n",
       " 'txt',\n",
       " 'UNIVERSITY REALTED',\n",
       " 'url',\n",
       " 'xlsx',\n",
       " 'zip']"
      ]
     },
     "execution_count": 12,
     "metadata": {},
     "output_type": "execute_result"
    }
   ],
   "source": [
    "os.listdir(file_path)"
   ]
  },
  {
   "cell_type": "code",
   "execution_count": null,
   "id": "bc36607a-26e1-4381-8b93-b8e4cfac0e92",
   "metadata": {},
   "outputs": [],
   "source": []
  }
 ],
 "metadata": {
  "kernelspec": {
   "display_name": "Python 3 (ipykernel)",
   "language": "python",
   "name": "python3"
  },
  "language_info": {
   "codemirror_mode": {
    "name": "ipython",
    "version": 3
   },
   "file_extension": ".py",
   "mimetype": "text/x-python",
   "name": "python",
   "nbconvert_exporter": "python",
   "pygments_lexer": "ipython3",
   "version": "3.11.5"
  }
 },
 "nbformat": 4,
 "nbformat_minor": 5
}
